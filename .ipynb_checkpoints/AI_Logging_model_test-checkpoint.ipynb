{
 "cells": [
  {
   "cell_type": "code",
   "execution_count": 8,
   "id": "8a8a14cc-b27a-4351-af8e-4609b1027d4f",
   "metadata": {},
   "outputs": [
    {
     "name": "stderr",
     "output_type": "stream",
     "text": [
      "Device set to use cpu\n"
     ]
    }
   ],
   "source": [
    "from transformers import pipeline\n",
    "from transformers import AutoConfig\n",
    "\n",
    "pipe = pipeline(\"text-classification\", model=\"Dumi2025/log-anomaly-detection-model-new\")  "
   ]
  },
  {
   "cell_type": "code",
   "execution_count": 9,
   "id": "a2b2e1a1-d4a1-4d23-a95a-b0faae786935",
   "metadata": {},
   "outputs": [
    {
     "data": {
      "application/vnd.jupyter.widget-view+json": {
       "model_id": "f244b66d6ae64020924e512145d9c0e7",
       "version_major": 2,
       "version_minor": 0
      },
      "text/plain": [
       "config.json:   0%|          | 0.00/805 [00:00<?, ?B/s]"
      ]
     },
     "metadata": {},
     "output_type": "display_data"
    },
    {
     "name": "stdout",
     "output_type": "stream",
     "text": [
      "{0: 'Normal', 1: 'Anomaly'}\n",
      "None\n"
     ]
    }
   ],
   "source": [
    "model_name = \"Dumi2025/log-anomaly-detection-model-roberta\"\n",
    "config = AutoConfig.from_pretrained(model_name)\n",
    "\n",
    "print(config.id2label)  \n",
    "print(config.label2id)"
   ]
  },
  {
   "cell_type": "code",
   "execution_count": 42,
   "id": "63b416ed-e392-40e0-823d-f595cc2c49a1",
   "metadata": {},
   "outputs": [],
   "source": [
    "examples = [\n",
    "    \"INFO: USER login started successfully\",   \n",
    "    \"ERROR: Database connection failed\" ,\n",
    "     \"INFO: User login successful\",\n",
    "]\n",
    "\n",
    "res = ResponseConverter(pipe(examples))"
   ]
  },
  {
   "cell_type": "code",
   "execution_count": 43,
   "id": "d537bebf-a8e2-4ec9-8bfb-9c55aac12174",
   "metadata": {},
   "outputs": [
    {
     "data": {
      "text/plain": [
       "[{'label': 'Normal', 'score': 0.9999072551727295},\n",
       " {'label': 'Anomaly', 'score': 0.8868933320045471},\n",
       " {'label': 'Normal', 'score': 0.9999661445617676}]"
      ]
     },
     "execution_count": 43,
     "metadata": {},
     "output_type": "execute_result"
    }
   ],
   "source": [
    "res"
   ]
  },
  {
   "cell_type": "code",
   "execution_count": 41,
   "id": "ef7cef71-4dfd-4fa5-9ef7-3f9c838944b4",
   "metadata": {},
   "outputs": [],
   "source": [
    "def ResponseConverter(Arrayresponse):\n",
    "    for response in Arrayresponse:\n",
    "        if response.get('label', None) == \"LABEL_0\":\n",
    "            response['label'] = 'Anomaly'\n",
    "        else:\n",
    "            response['label'] = 'Normal'\n",
    "\n",
    "    return Arrayresponse\n",
    "    "
   ]
  },
  {
   "cell_type": "code",
   "execution_count": null,
   "id": "db4ce18f-04b5-4b0e-bda6-529bcd91751b",
   "metadata": {},
   "outputs": [],
   "source": []
  }
 ],
 "metadata": {
  "kernelspec": {
   "display_name": "Python 3 (ipykernel)",
   "language": "python",
   "name": "python3"
  },
  "language_info": {
   "codemirror_mode": {
    "name": "ipython",
    "version": 3
   },
   "file_extension": ".py",
   "mimetype": "text/x-python",
   "name": "python",
   "nbconvert_exporter": "python",
   "pygments_lexer": "ipython3",
   "version": "3.10.12"
  }
 },
 "nbformat": 4,
 "nbformat_minor": 5
}
