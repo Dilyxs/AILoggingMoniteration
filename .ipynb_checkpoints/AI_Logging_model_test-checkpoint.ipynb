{
 "cells": [
  {
   "cell_type": "code",
   "execution_count": 56,
   "id": "8a8a14cc-b27a-4351-af8e-4609b1027d4f",
   "metadata": {},
   "outputs": [
    {
     "name": "stderr",
     "output_type": "stream",
     "text": [
      "Device set to use cpu\n"
     ]
    }
   ],
   "source": [
    "from transformers import pipeline\n",
    "from transformers import AutoConfig\n",
    "modelname = \"byviz/bylastic_classification_logs\"\n",
    "pipe = pipeline(\"text-classification\", model=model_name)"
   ]
  },
  {
   "cell_type": "code",
   "execution_count": 57,
   "id": "a2b2e1a1-d4a1-4d23-a95a-b0faae786935",
   "metadata": {},
   "outputs": [
    {
     "name": "stdout",
     "output_type": "stream",
     "text": [
      "{0: 'Normal', 1: 'Anomaly'}\n",
      "None\n"
     ]
    }
   ],
   "source": [
    "config = AutoConfig.from_pretrained(model_name)\n",
    "\n",
    "print(config.id2label)  \n",
    "print(config.label2id)"
   ]
  },
  {
   "cell_type": "code",
   "execution_count": 50,
   "id": "63b416ed-e392-40e0-823d-f595cc2c49a1",
   "metadata": {},
   "outputs": [],
   "source": [
    "examples = [\n",
    "    \"INFO: USER login started successfully\",   \n",
    "    \"ERROR: Database connection failed\" ,\n",
    "     \"INFO: User login successful\",\n",
    "]\n",
    "\n",
    "res =(pipe(examples))"
   ]
  },
  {
   "cell_type": "code",
   "execution_count": 51,
   "id": "d537bebf-a8e2-4ec9-8bfb-9c55aac12174",
   "metadata": {},
   "outputs": [
    {
     "data": {
      "text/plain": [
       "[{'label': 'Normal', 'score': 0.9890618920326233},\n",
       " {'label': 'Normal', 'score': 0.9890618920326233},\n",
       " {'label': 'Normal', 'score': 0.9890618920326233}]"
      ]
     },
     "execution_count": 51,
     "metadata": {},
     "output_type": "execute_result"
    }
   ],
   "source": [
    "res"
   ]
  },
  {
   "cell_type": "code",
   "execution_count": 52,
   "id": "ef7cef71-4dfd-4fa5-9ef7-3f9c838944b4",
   "metadata": {},
   "outputs": [],
   "source": [
    "def ResponseConverter(Arrayresponse):\n",
    "    for response in Arrayresponse:\n",
    "        if response.get('label', None) == \"LABEL_0\":\n",
    "            response['label'] = 'Anomaly'\n",
    "        else:\n",
    "            response['label'] = 'Normal'\n",
    "\n",
    "    return Arrayresponse\n",
    "    "
   ]
  },
  {
   "cell_type": "code",
   "execution_count": 53,
   "id": "db4ce18f-04b5-4b0e-bda6-529bcd91751b",
   "metadata": {},
   "outputs": [],
   "source": [
    "test_logs = [\n",
    "    # 🔴 Super obvious anomalies\n",
    "    \"ERROR: Database connection failed. Cannot proceed with query.\",\n",
    "    \"CRITICAL: Server out of memory. Immediate restart required.\",\n",
    "    \"FATAL: Unhandled exception in main thread.\",\n",
    "\n",
    "    # 🟠 Likely anomalies / warnings\n",
    "    \"WARNING: Disk usage at 92%, consider cleanup soon.\",\n",
    "    \"ERROR: Failed to send email notification, retrying...\",\n",
    "    \"ALERT: CPU temperature exceeded threshold, throttling...\",\n",
    "\n",
    "    # 🟡 Borderline / so-so\n",
    "    \"INFO: User login failed due to incorrect password.\",\n",
    "    \"NOTICE: Scheduled backup took longer than expected.\",\n",
    "    \"INFO: Retrying API call after temporary network glitch.\",\n",
    "\n",
    "    # 🟢 Super obvious normal\n",
    "    \"INFO: Service started successfully.\",\n",
    "    \"INFO: User 'dilyxs' logged in.\",\n",
    "    \"DEBUG: Cache hit for key 'user_profile_123'.\"\n",
    "]"
   ]
  },
  {
   "cell_type": "code",
   "execution_count": null,
   "id": "1a5363e7-cc03-4d3e-ac5a-9d74ab55ae29",
   "metadata": {},
   "outputs": [],
   "source": [
    "from transformers import AutoTokenizer, AutoModelForSequenceClassification, pipeline\n",
    "\n",
    "model_name = \"byviz/bylastic_classification_logs\"\n",
    "tokenizer = AutoTokenizer.from_pretrained(model_name)\n",
    "model = AutoModelForSequenceClassification.from_pretrained(model_name)\n",
    "\n",
    "classifier = pipeline(\"text-classification\", model=model, tokenizer=tokenizer)\n",
    "\n",
    "# Feed logs\n",
    "logs = [\n",
    "    \"ERROR: Database connection failed\",\n",
    "    \"INFO: Service started successfully\"\n",
    "]\n",
    "\n",
    "preds = classifier(logs)\n",
    "\n",
    "print(preds)\n"
   ]
  },
  {
   "cell_type": "code",
   "execution_count": null,
   "id": "1c66a7b4-1b3f-498a-9551-be2cd5d236bb",
   "metadata": {},
   "outputs": [],
   "source": []
  }
 ],
 "metadata": {
  "kernelspec": {
   "display_name": "Python 3 (ipykernel)",
   "language": "python",
   "name": "python3"
  },
  "language_info": {
   "codemirror_mode": {
    "name": "ipython",
    "version": 3
   },
   "file_extension": ".py",
   "mimetype": "text/x-python",
   "name": "python",
   "nbconvert_exporter": "python",
   "pygments_lexer": "ipython3",
   "version": "3.10.12"
  }
 },
 "nbformat": 4,
 "nbformat_minor": 5
}
